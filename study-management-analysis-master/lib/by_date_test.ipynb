{
 "cells": [
  {
   "cell_type": "code",
   "execution_count": 2,
   "id": "4a47893e",
   "metadata": {},
   "outputs": [],
   "source": [
    "import numpy as npn",
    "import pandas as pdn",
    "from datetime import daten",
    "import datetime"
   ]
  },
  {
   "cell_type": "code",
   "execution_count": null,
   "id": "b29ae27e",
   "metadata": {},
   "outputs": [],
   "source": [
    "n",
    "class date_analysis():n",
    "    n",
    "    # _from must have a syntax: 'yyyy-mm-dd'n",
    "    n",
    "    def __init__(self, res, _from, to = 0):n",
    "        self.res = resn",
    "        self._from = pd.to_datetime(_from)n",
    "        if ~to:n",
    "            self.to = date.today()n",
    "        else:n",
    "            self.to = ton",
    "        self.filter_df()n",
    "     n",
    "    n",
    "    def filter_df(self):n",
    "        self.filtered = self.res[(self.res['AUTHORED'] >= self._from) & (self.res['AUTHORED'] <= self.to)]n",
    "            n",
    "    def user_analysis(self):n",
    "        self.start = self._fromn",
    "        self.end = self.start + datetime.timedelta(days=1)n",
    "        n",
    "        n",
    "    n",
    "        n",
    "        n",
    "    n",
    "            "
   ]
  },
  {
   "cell_type": "code",
   "execution_count": 15,
   "id": "f269522b",
   "metadata": {},
   "outputs": [
    {
     "data": {
      "text/plain": [
       "Timestamp('2021-11-17 00:00:00')"
      ]
     },
     "execution_count": 15,
     "metadata": {},
     "output_type": "execute_result"
    }
   ],
   "source": [
    "pd.to_datetime(date.today())"
   ]
  },
  {
   "cell_type": "code",
   "execution_count": 13,
   "id": "9881e8f6",
   "metadata": {},
   "outputs": [
    {
     "data": {
      "text/plain": [
       "Timestamp('2021-11-16 00:00:00')"
      ]
     },
     "execution_count": 13,
     "metadata": {},
     "output_type": "execute_result"
    }
   ],
   "source": [
    "pd.to_datetime('2021-11-16')"
   ]
  },
  {
   "cell_type": "code",
   "execution_count": null,
   "id": "f7bf622b",
   "metadata": {},
   "outputs": [],
   "source": []
  }
 ],
 "metadata": {
  "kernelspec": {
   "display_name": "Python 3",
   "language": "python",
   "name": "python3"
  },
  "language_info": {
   "codemirror_mode": {
    "name": "ipython",
    "version": 3
   },
   "file_extension": ".py",
   "mimetype": "text/x-python",
   "name": "python",
   "nbconvert_exporter": "python",
   "pygments_lexer": "ipython3",
   "version": "3.8.8"
  }
 },
 "nbformat": 4,
 "nbformat_minor": 5
}
